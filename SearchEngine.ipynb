{
 "cells": [
  {
   "cell_type": "code",
   "id": "initial_id",
   "metadata": {
    "collapsed": true,
    "ExecuteTime": {
     "end_time": "2025-05-15T18:02:07.902368Z",
     "start_time": "2025-05-15T18:02:07.873222Z"
    }
   },
   "source": [
    "import numpy as np\n",
    "import scipy as sp\n",
    "import pickle\n",
    "import json\n",
    "from nltk.stem import PorterStemmer\n",
    "from nltk.tokenize import word_tokenize\n",
    "from sklearn.feature_extraction.text import TfidfTransformer\n",
    "from sklearn.decomposition import TruncatedSVD\n",
    "from sklearn.preprocessing import normalize"
   ],
   "outputs": [],
   "execution_count": 13
  },
  {
   "metadata": {
    "ExecuteTime": {
     "end_time": "2025-05-15T18:02:08.458834Z",
     "start_time": "2025-05-15T18:02:08.451552Z"
    }
   },
   "cell_type": "code",
   "source": [
    "def cosine_similarity(q, A):\n",
    "    print(q.shape, A.shape)\n",
    "    dot_product = q.T @ A\n",
    "    q_norm = np.sqrt((q ** 2).sum())\n",
    "    A_norms = np.sqrt((A ** 2).sum(axis=0))\n",
    "    similarities = dot_product / (q_norm * A_norms)\n",
    "    return np.nan_to_num(similarities)"
   ],
   "id": "8bb28eee1b237289",
   "outputs": [],
   "execution_count": 14
  },
  {
   "metadata": {
    "ExecuteTime": {
     "end_time": "2025-05-15T18:02:08.816892Z",
     "start_time": "2025-05-15T18:02:08.813232Z"
    }
   },
   "cell_type": "code",
   "source": [
    "def cosine_similarity_normalized(q, A):\n",
    "    dot_product = q.T @ A\n",
    "    return dot_product"
   ],
   "id": "3ae45ff54f5ada0e",
   "outputs": [],
   "execution_count": 15
  },
  {
   "metadata": {
    "ExecuteTime": {
     "end_time": "2025-05-15T18:02:09.074359Z",
     "start_time": "2025-05-15T18:02:09.068571Z"
    }
   },
   "cell_type": "code",
   "source": [
    "def tf_idf(matrix):\n",
    "    mat = matrix.copy()\n",
    "    cnt_mat = mat.count_nonzero(axis=1)\n",
    "    for i in range(len(cnt_mat)):\n",
    "        if cnt_mat[i] != 0:\n",
    "            mat[i] *= np.log(mat.shape[1] / cnt_mat[i])\n",
    "    return mat"
   ],
   "id": "d8e5eceae0277bda",
   "outputs": [],
   "execution_count": 16
  },
  {
   "metadata": {
    "ExecuteTime": {
     "end_time": "2025-05-15T18:02:22.822997Z",
     "start_time": "2025-05-15T18:02:22.809017Z"
    }
   },
   "cell_type": "code",
   "source": [
    "class SearchEngine:\n",
    "    def __init__(self): #normalized=True\n",
    "        #self.normalized = normalized\n",
    "        self.k = 0\n",
    "        self.reduced_matrix = None\n",
    "        self.svd = None\n",
    "        terms_by_doc = sp.sparse.load_npz(\"terms_by_doc.npz\")\n",
    "        with open(\"documents.json\", \"r\") as f:\n",
    "            self.documents = json.load(f)\n",
    "        with open(\"terms.json\", \"r\") as f:\n",
    "            self.terms = json.load(f)\n",
    "        with open(\"stop_words.txt\", 'r') as sw_file:\n",
    "            self.stop_words = set(sw_file.read().splitlines())\n",
    "        self.stemmer = PorterStemmer()\n",
    "        # perfoming TF-IDF on the matrix\n",
    "        tfidf_transformer = TfidfTransformer()\n",
    "        self.tfidf_matrix = tfidf_transformer.fit_transform(terms_by_doc.T).T # if self.normalized else tf_idf(terms_by_doc)\n",
    "\n",
    "    def _reduce_svd_matrix(self, k):\n",
    "        matrix_file = \"reduced_matrix_\" + str(k) + \".pkl\"\n",
    "        model_file = \"reduced_model_\" + str(k) + \".pkl\"\n",
    "        try:\n",
    "            with open(matrix_file, 'rb') as file:\n",
    "                reduced_matrix = pickle.load(file)\n",
    "            with open(model_file, 'rb') as file:\n",
    "                svd = pickle.load(file)\n",
    "        except FileNotFoundError:\n",
    "            svd = TruncatedSVD(n_components=k)\n",
    "            reduced_matrix = svd.fit_transform(self.tfidf_matrix.T)\n",
    "            with open(matrix_file, 'wb') as file:\n",
    "                pickle.dump(reduced_matrix, file)\n",
    "            with open(model_file, 'wb') as file:\n",
    "                pickle.dump(svd, file)\n",
    "        return reduced_matrix, svd\n",
    "    \n",
    "    def search(self, search_terms: str, k: int = 0):\n",
    "        query = sp.sparse.lil_matrix((len(self.terms), 1))\n",
    "        words = word_tokenize(search_terms.lower())\n",
    "        stemmed_words = [self.stemmer.stem(word) for word in words if word not in self.stop_words]\n",
    "        filtered_terms = [word for word in stemmed_words if word not in self.stop_words and word.isalpha() and word in self.terms]\n",
    "        if len(filtered_terms) == 0:\n",
    "            print(\"Invalid query\")\n",
    "        for term in filtered_terms:\n",
    "            idx = self.terms[term]\n",
    "            query[idx, 0] += 1\n",
    "            query *= 1/query.sum()      \n",
    "        if k==0:\n",
    "            fit = cosine_similarity_normalized(query, self.tfidf_matrix).toarray()[0]\n",
    "        elif k == self.k:\n",
    "            reduced_query = self.svd.transform(query.T)\n",
    "            reduced_query = normalize(reduced_query, norm='l2', axis=1).T\n",
    "            fit = cosine_similarity_normalized(reduced_query, self.reduced_matrix)[0]\n",
    "        else:\n",
    "            raw_reduced_matrix, self.svd = self._reduce_svd_matrix(k)\n",
    "            self.reduced_matrix = normalize(raw_reduced_matrix, norm='l2', axis=1).T\n",
    "            reduced_query = self.svd.transform(query.T)\n",
    "            reduced_query = normalize(reduced_query, norm='l2', axis=1).T\n",
    "            fit = cosine_similarity_normalized(reduced_query, self.reduced_matrix)[0]\n",
    "            self.k = k\n",
    "        \n",
    "        result_indices = np.argsort(-fit)\n",
    "        results = [\n",
    "            {\n",
    "                \"title\": f\"{self.documents[idx]}\",\n",
    "                \"url\": f\"{self.documents[idx]}\",\n",
    "                \"snippet\": f\"Match accuracy: {fit[idx]}\",\n",
    "            } for idx in result_indices[: 20]]\n",
    "        return results"
   ],
   "id": "2780424d6bc07b46",
   "outputs": [],
   "execution_count": 18
  },
  {
   "metadata": {
    "ExecuteTime": {
     "end_time": "2025-05-15T18:02:23.572166Z",
     "start_time": "2025-05-15T18:02:23.222032Z"
    }
   },
   "cell_type": "code",
   "source": [
    "se = SearchEngine()\n",
    "res = se.search(\"computer science\", k = 100)\n",
    "print(res)"
   ],
   "id": "12f67afcbeb99c05",
   "outputs": [
    {
     "name": "stdout",
     "output_type": "stream",
     "text": [
      "[{'title': 'https://simple.wikipedia.org/wiki/War_crime', 'url': 'https://simple.wikipedia.org/wiki/War_crime', 'snippet': 'Match accuracy: 0.9022685125290414'}, {'title': 'https://simple.wikipedia.org/wiki/Conventional_warfare', 'url': 'https://simple.wikipedia.org/wiki/Conventional_warfare', 'snippet': 'Match accuracy: 0.8734816341669429'}, {'title': 'https://simple.wikipedia.org/wiki/War', 'url': 'https://simple.wikipedia.org/wiki/War', 'snippet': 'Match accuracy: 0.8704331044176387'}, {'title': 'https://simple.wikipedia.org/wiki/Warfare', 'url': 'https://simple.wikipedia.org/wiki/Warfare', 'snippet': 'Match accuracy: 0.8704331044176387'}, {'title': 'https://simple.wikipedia.org/wiki/Attrition_warfare', 'url': 'https://simple.wikipedia.org/wiki/Attrition_warfare', 'snippet': 'Match accuracy: 0.8362305277646982'}, {'title': 'https://simple.wikipedia.org/wiki/Nuclear_warfare', 'url': 'https://simple.wikipedia.org/wiki/Nuclear_warfare', 'snippet': 'Match accuracy: 0.8316067664483624'}, {'title': 'https://simple.wikipedia.org/wiki/Nigerian_Civil_War', 'url': 'https://simple.wikipedia.org/wiki/Nigerian_Civil_War', 'snippet': 'Match accuracy: 0.830849989809669'}, {'title': 'https://simple.wikipedia.org/wiki/World_War_I', 'url': 'https://simple.wikipedia.org/wiki/World_War_I', 'snippet': 'Match accuracy: 0.8300685820660083'}, {'title': 'https://simple.wikipedia.org/wiki/Guerrilla_warfare', 'url': 'https://simple.wikipedia.org/wiki/Guerrilla_warfare', 'snippet': 'Match accuracy: 0.8193448258074645'}, {'title': 'https://simple.wikipedia.org/wiki/WWII', 'url': 'https://simple.wikipedia.org/wiki/WWII', 'snippet': 'Match accuracy: 0.8182042534824487'}, {'title': 'https://simple.wikipedia.org/wiki/World_War_II', 'url': 'https://simple.wikipedia.org/wiki/World_War_II', 'snippet': 'Match accuracy: 0.8182042534824487'}, {'title': 'https://simple.wikipedia.org/wiki/Blitzkrieg', 'url': 'https://simple.wikipedia.org/wiki/Blitzkrieg', 'snippet': 'Match accuracy: 0.7918389443805012'}, {'title': 'https://simple.wikipedia.org/wiki/Unconventional_warfare', 'url': 'https://simple.wikipedia.org/wiki/Unconventional_warfare', 'snippet': 'Match accuracy: 0.7767656795239548'}, {'title': 'https://simple.wikipedia.org/wiki/Nazi_Germany', 'url': 'https://simple.wikipedia.org/wiki/Nazi_Germany', 'snippet': 'Match accuracy: 0.7748076871609135'}, {'title': 'https://simple.wikipedia.org/wiki/Soviet_war_in_Afghanistan', 'url': 'https://simple.wikipedia.org/wiki/Soviet_war_in_Afghanistan', 'snippet': 'Match accuracy: 0.7735689839155975'}, {'title': 'https://simple.wikipedia.org/wiki/Anti-tank_gun', 'url': 'https://simple.wikipedia.org/wiki/Anti-tank_gun', 'snippet': 'Match accuracy: 0.7307839832405658'}, {'title': 'https://simple.wikipedia.org/wiki/Peter_I_of_Russia', 'url': 'https://simple.wikipedia.org/wiki/Peter_I_of_Russia', 'snippet': 'Match accuracy: 0.7228345618704022'}, {'title': 'https://simple.wikipedia.org/wiki/Tank', 'url': 'https://simple.wikipedia.org/wiki/Tank', 'snippet': 'Match accuracy: 0.7206693860805701'}, {'title': 'https://simple.wikipedia.org/wiki/Battle_rifle', 'url': 'https://simple.wikipedia.org/wiki/Battle_rifle', 'snippet': 'Match accuracy: 0.7204697034306874'}, {'title': 'https://simple.wikipedia.org/wiki/Chinese_Civil_War', 'url': 'https://simple.wikipedia.org/wiki/Chinese_Civil_War', 'snippet': 'Match accuracy: 0.7192194541379584'}]\n"
     ]
    }
   ],
   "execution_count": 19
  },
  {
   "metadata": {},
   "cell_type": "code",
   "outputs": [],
   "execution_count": null,
   "source": "",
   "id": "a1ee6d12e680a823"
  }
 ],
 "metadata": {
  "kernelspec": {
   "display_name": "Python 3",
   "language": "python",
   "name": "python3"
  },
  "language_info": {
   "codemirror_mode": {
    "name": "ipython",
    "version": 2
   },
   "file_extension": ".py",
   "mimetype": "text/x-python",
   "name": "python",
   "nbconvert_exporter": "python",
   "pygments_lexer": "ipython2",
   "version": "2.7.6"
  }
 },
 "nbformat": 4,
 "nbformat_minor": 5
}
