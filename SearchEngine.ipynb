{
 "cells": [
  {
   "cell_type": "code",
   "id": "initial_id",
   "metadata": {
    "collapsed": true,
    "ExecuteTime": {
     "end_time": "2025-05-11T22:36:21.377112Z",
     "start_time": "2025-05-11T22:36:21.373693Z"
    }
   },
   "source": [
    "import numpy as np\n",
    "import scipy as sp\n",
    "import pickle\n",
    "import json\n",
    "from nltk.stem import PorterStemmer\n",
    "from nltk.tokenize import word_tokenize\n",
    "from sklearn.feature_extraction.text import TfidfTransformer\n",
    "from sklearn.decomposition import TruncatedSVD\n",
    "from sklearn.preprocessing import normalize"
   ],
   "outputs": [],
   "execution_count": 258
  },
  {
   "metadata": {
    "ExecuteTime": {
     "end_time": "2025-05-11T22:32:58.535609Z",
     "start_time": "2025-05-11T22:32:58.532867Z"
    }
   },
   "cell_type": "code",
   "source": [
    "def cosine_similarity(q, A):\n",
    "    print(q.shape, A.shape)\n",
    "    dot_product = q.T @ A\n",
    "    q_norm = np.sqrt((q ** 2).sum())\n",
    "    A_norms = np.sqrt((A ** 2).sum(axis=0))\n",
    "    similarities = dot_product / (q_norm * A_norms)\n",
    "    return np.nan_to_num(similarities)"
   ],
   "id": "8bb28eee1b237289",
   "outputs": [],
   "execution_count": 253
  },
  {
   "metadata": {
    "ExecuteTime": {
     "end_time": "2025-05-11T22:56:32.918956Z",
     "start_time": "2025-05-11T22:56:32.915936Z"
    }
   },
   "cell_type": "code",
   "source": [
    "def cosine_similarity_normalized(q, A):\n",
    "    dot_product = q.T @ A\n",
    "    return dot_product"
   ],
   "id": "3ae45ff54f5ada0e",
   "outputs": [],
   "execution_count": 320
  },
  {
   "metadata": {
    "ExecuteTime": {
     "end_time": "2025-05-11T01:27:03.064602Z",
     "start_time": "2025-05-11T01:27:03.060861Z"
    }
   },
   "cell_type": "code",
   "source": [
    "def tf_idf(matrix):\n",
    "    mat = matrix.copy()\n",
    "    cnt_mat = mat.count_nonzero(axis=1)\n",
    "    for i in range(len(cnt_mat)):\n",
    "        if cnt_mat[i] != 0:\n",
    "            mat[i] *= np.log(mat.shape[1] / cnt_mat[i])\n",
    "    return mat"
   ],
   "id": "d8e5eceae0277bda",
   "outputs": [],
   "execution_count": 163
  },
  {
   "metadata": {
    "ExecuteTime": {
     "end_time": "2025-05-11T22:58:06.714122Z",
     "start_time": "2025-05-11T22:58:06.706295Z"
    }
   },
   "cell_type": "code",
   "source": [
    "class SearchEngine:\n",
    "    def __init__(self): #normalized=True\n",
    "        #self.normalized = normalized\n",
    "        terms_by_doc = sp.sparse.load_npz(\"terms_by_doc.npz\")\n",
    "        with open(\"documents.json\", \"r\") as f:\n",
    "            self.documents = json.load(f)\n",
    "        with open(\"terms.json\", \"r\") as f:\n",
    "            self.terms = json.load(f)\n",
    "        with open(\"stop_words.txt\", 'r') as sw_file:\n",
    "            self.stop_words = set(sw_file.read().splitlines())\n",
    "        self.stemmer = PorterStemmer()\n",
    "        # perfoming TF-IDF on the matrix\n",
    "        tfidf_transformer = TfidfTransformer()\n",
    "        self.tfidf_matrix = tfidf_transformer.fit_transform(terms_by_doc.T).T # if self.normalized else tf_idf(terms_by_doc)\n",
    "\n",
    "    def _reduce_svd_matrix(self, k):\n",
    "        # TODO: check if matrix for that k already exists\n",
    "        svd = TruncatedSVD(n_components=k)\n",
    "        reduced_matrix = svd.fit_transform(self.tfidf_matrix.T)\n",
    "        # TODO: add saving to file new calculated matrix and model\n",
    "        return reduced_matrix, svd\n",
    "    \n",
    "    def search(self, search_terms: str, k: int = 0):\n",
    "        query = sp.sparse.lil_matrix((len(self.terms), 1))\n",
    "        words = word_tokenize(search_terms.lower())\n",
    "        stemmed_words = [self.stemmer.stem(word) for word in words if word not in self.stop_words]\n",
    "        filtered_terms = [word for word in stemmed_words if word not in self.stop_words and word.isalpha() and word in self.terms]\n",
    "        if len(filtered_terms) == 0:\n",
    "            print(\"Invalid query\")\n",
    "        for term in filtered_terms:\n",
    "            idx = self.terms[term]\n",
    "            query[idx, 0] += 1\n",
    "            query *= 1/query.sum()      \n",
    "        if k==0:\n",
    "            fit = cosine_similarity_normalized(query, self.tfidf_matrix).toarray()[0]\n",
    "        else:\n",
    "            reduced_matrix, svd = self._reduce_svd_matrix(k)\n",
    "            reduced_matrix = normalize(reduced_matrix, norm='l2', axis=1).T\n",
    "            reduced_query = svd.transform(query.T)\n",
    "            reduced_query = normalize(reduced_query, norm='l2', axis=1).T\n",
    "            fit = cosine_similarity_normalized(reduced_query, reduced_matrix)[0]\n",
    "        \n",
    "        result_indices = np.argsort(-fit)\n",
    "        results = [(self.documents[idx], fit[idx]) for idx in result_indices[: 20]]\n",
    "        return results"
   ],
   "id": "2780424d6bc07b46",
   "outputs": [],
   "execution_count": 324
  },
  {
   "metadata": {
    "ExecuteTime": {
     "end_time": "2025-05-11T23:00:43.040795Z",
     "start_time": "2025-05-11T23:00:41.549395Z"
    }
   },
   "cell_type": "code",
   "source": [
    "se = SearchEngine()\n",
    "res = se.search(\"computer science major\", k = 50)\n",
    "print(res)"
   ],
   "id": "12f67afcbeb99c05",
   "outputs": [
    {
     "name": "stdout",
     "output_type": "stream",
     "text": [
      "[('https://simple.wikipedia.org/wiki/Theoretical_computer_science', np.float64(0.9708594104158843)), ('https://simple.wikipedia.org/wiki/Computer_science', np.float64(0.9308094391745394)), ('https://simple.wikipedia.org/wiki/Computing', np.float64(0.9308094391745394)), ('https://simple.wikipedia.org/wiki/Debugging', np.float64(0.9218291368252772)), ('https://simple.wikipedia.org/wiki/Computability_theory', np.float64(0.9211531323586261)), ('https://simple.wikipedia.org/wiki/Theory_of_computation', np.float64(0.9188093142757258)), ('https://simple.wikipedia.org/wiki/Computation', np.float64(0.908246275554424)), ('https://simple.wikipedia.org/wiki/Framework', np.float64(0.9037145838094329)), ('https://simple.wikipedia.org/wiki/Distributed_computing', np.float64(0.9017982083727221)), ('https://simple.wikipedia.org/wiki/Computer_vision', np.float64(0.8994008017079984)), ('https://simple.wikipedia.org/wiki/Computer_security', np.float64(0.8968233826706269)), ('https://simple.wikipedia.org/wiki/Computer_engineering', np.float64(0.889677085783606)), ('https://simple.wikipedia.org/wiki/Parallel_computing', np.float64(0.8863768064970233)), ('https://simple.wikipedia.org/wiki/Machine_learning', np.float64(0.8774183395506583)), ('https://simple.wikipedia.org/wiki/Virtual_machine', np.float64(0.8739607096638572)), ('https://simple.wikipedia.org/wiki/Concurrency_(computer_science)', np.float64(0.8681966898038991)), ('https://simple.wikipedia.org/wiki/Communication_protocol', np.float64(0.8681296275051534)), ('https://simple.wikipedia.org/wiki/Computer_program', np.float64(0.8641976602089546)), ('https://simple.wikipedia.org/wiki/Computer_hardware', np.float64(0.8607168684062438)), ('https://simple.wikipedia.org/wiki/Computer_architecture', np.float64(0.8572433613479473))]\n"
     ]
    }
   ],
   "execution_count": 335
  }
 ],
 "metadata": {
  "kernelspec": {
   "display_name": "Python 3",
   "language": "python",
   "name": "python3"
  },
  "language_info": {
   "codemirror_mode": {
    "name": "ipython",
    "version": 2
   },
   "file_extension": ".py",
   "mimetype": "text/x-python",
   "name": "python",
   "nbconvert_exporter": "python",
   "pygments_lexer": "ipython2",
   "version": "2.7.6"
  }
 },
 "nbformat": 4,
 "nbformat_minor": 5
}
