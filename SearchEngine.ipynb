{
 "cells": [
  {
   "cell_type": "code",
   "id": "initial_id",
   "metadata": {
    "collapsed": true,
    "ExecuteTime": {
     "end_time": "2025-05-18T19:24:08.342833Z",
     "start_time": "2025-05-18T19:24:08.330279Z"
    }
   },
   "source": [
    "import numpy as np\n",
    "import scipy as sp\n",
    "import pickle\n",
    "import json\n",
    "from nltk.stem import PorterStemmer\n",
    "from nltk.tokenize import word_tokenize\n",
    "from sklearn.feature_extraction.text import TfidfTransformer\n",
    "from sklearn.decomposition import TruncatedSVD\n",
    "from sklearn.preprocessing import normalize\n",
    "import hnswlib"
   ],
   "outputs": [],
   "execution_count": 21
  },
  {
   "metadata": {
    "ExecuteTime": {
     "end_time": "2025-05-18T19:24:08.648470Z",
     "start_time": "2025-05-18T19:24:08.642068Z"
    }
   },
   "cell_type": "code",
   "source": [
    "def cosine_similarity(q, A):\n",
    "    print(q.shape, A.shape)\n",
    "    dot_product = q.T @ A\n",
    "    q_norm = np.sqrt((q ** 2).sum())\n",
    "    A_norms = np.sqrt((A ** 2).sum(axis=0))\n",
    "    similarities = dot_product / (q_norm * A_norms)\n",
    "    return np.nan_to_num(similarities)"
   ],
   "id": "8bb28eee1b237289",
   "outputs": [],
   "execution_count": 22
  },
  {
   "metadata": {
    "ExecuteTime": {
     "end_time": "2025-05-18T19:24:08.783217Z",
     "start_time": "2025-05-18T19:24:08.778646Z"
    }
   },
   "cell_type": "code",
   "source": [
    "def cosine_similarity_normalized(q, A):\n",
    "    dot_product = q.T @ A\n",
    "    return dot_product"
   ],
   "id": "3ae45ff54f5ada0e",
   "outputs": [],
   "execution_count": 23
  },
  {
   "metadata": {
    "ExecuteTime": {
     "end_time": "2025-05-18T19:24:09.179392Z",
     "start_time": "2025-05-18T19:24:09.175308Z"
    }
   },
   "cell_type": "code",
   "source": [
    "def tf_idf(matrix):\n",
    "    mat = matrix.copy()\n",
    "    cnt_mat = mat.count_nonzero(axis=1)\n",
    "    for i in range(len(cnt_mat)):\n",
    "        if cnt_mat[i] != 0:\n",
    "            mat[i] *= np.log(mat.shape[1] / cnt_mat[i])\n",
    "    return mat"
   ],
   "id": "d8e5eceae0277bda",
   "outputs": [],
   "execution_count": 24
  },
  {
   "metadata": {
    "ExecuteTime": {
     "end_time": "2025-05-18T19:24:09.810640Z",
     "start_time": "2025-05-18T19:24:09.797666Z"
    }
   },
   "cell_type": "code",
   "source": [
    "class SearchEngine:\n",
    "    def __init__(self): #normalized=True\n",
    "        #self.normalized = normalized\n",
    "        self.k = 0\n",
    "        self.reduced_matrix = None\n",
    "        self.svd = None\n",
    "        self.p = None\n",
    "        terms_by_doc = sp.sparse.load_npz(\"terms_by_doc.npz\")\n",
    "        with open(\"documents.json\", \"r\") as f:\n",
    "            self.documents = json.load(f)\n",
    "        with open(\"terms.json\", \"r\") as f:\n",
    "            self.terms = json.load(f)\n",
    "        with open(\"stop_words.txt\", 'r') as sw_file:\n",
    "            self.stop_words = set(sw_file.read().splitlines())\n",
    "        self.stemmer = PorterStemmer()\n",
    "        # perfoming TF-IDF on the matrix\n",
    "        tfidf_transformer = TfidfTransformer()\n",
    "        self.tfidf_matrix = tfidf_transformer.fit_transform(terms_by_doc.T).T # if self.normalized else tf_idf(terms_by_doc)\n",
    "\n",
    "    def _reduce_svd_matrix(self, k):\n",
    "        matrix_file = \"reduced_matrix_\" + str(k) + \".pkl\"\n",
    "        model_file = \"reduced_model_\" + str(k) + \".pkl\"\n",
    "        try:\n",
    "            with open(matrix_file, 'rb') as file:\n",
    "                reduced_matrix = pickle.load(file)\n",
    "            with open(model_file, 'rb') as file:\n",
    "                svd = pickle.load(file)\n",
    "        except FileNotFoundError:\n",
    "            svd = TruncatedSVD(n_components=k)\n",
    "            reduced_matrix = svd.fit_transform(self.tfidf_matrix.T)\n",
    "            with open(matrix_file, 'wb') as file:\n",
    "                pickle.dump(reduced_matrix, file)\n",
    "            with open(model_file, 'wb') as file:\n",
    "                pickle.dump(svd, file)\n",
    "        return reduced_matrix, svd\n",
    "    \n",
    "    def _get_ann_index(self, k):\n",
    "        index_file = \"ann_index_\" + str(k) + \".pkl\"\n",
    "        try:\n",
    "            with open(index_file, 'rb') as file:\n",
    "                p = pickle.load(file)\n",
    "        except FileNotFoundError:\n",
    "            p = hnswlib.Index(space='cosine', dim=self.reduced_matrix.shape[0])\n",
    "            p.init_index(max_elements = self.reduced_matrix.shape[1])\n",
    "            p.set_ef(100)\n",
    "            p.add_items(self.reduced_matrix.T)\n",
    "            with open(index_file, 'wb') as file:\n",
    "                pickle.dump(p, file)\n",
    "        return p\n",
    "    \n",
    "    def search(self, search_terms: str, k: int = 0, ann: bool = False):\n",
    "        query = sp.sparse.lil_matrix((len(self.terms), 1))\n",
    "        words = word_tokenize(search_terms.lower())\n",
    "        stemmed_words = [self.stemmer.stem(word) for word in words if word not in self.stop_words]\n",
    "        filtered_terms = [word for word in stemmed_words if word not in self.stop_words and word.isalpha() and word in self.terms]\n",
    "        if len(filtered_terms) == 0:\n",
    "            print(\"Invalid query\")\n",
    "        for term in filtered_terms:\n",
    "            idx = self.terms[term]\n",
    "            query[idx, 0] += 1\n",
    "        query *= 1/query.sum()\n",
    "        if k==0:\n",
    "            if ann:\n",
    "                print(\"To use ANN, k has to be greater than 0. This search is performed using cosine similarity\")\n",
    "            fit = cosine_similarity_normalized(query, self.tfidf_matrix).toarray()[0]\n",
    "            result_indices = np.argsort(-fit)\n",
    "            indices = result_indices[: 20]\n",
    "            accuracy = fit[indices]\n",
    "        else:\n",
    "            if k != self.k:\n",
    "                raw_reduced_matrix, self.svd = self._reduce_svd_matrix(k)\n",
    "                self.reduced_matrix = normalize(raw_reduced_matrix, norm='l2', axis=1).T\n",
    "                if ann:\n",
    "                    self.p = self._get_ann_index(k)\n",
    "                self.k = k\n",
    "            reduced_query = self.svd.transform(query.T)\n",
    "            reduced_query = normalize(reduced_query, norm='l2', axis=1).T\n",
    "            if ann:\n",
    "                indices, distances = self.p.knn_query(reduced_query.T, k=20)\n",
    "                accuracy = 1 - distances[0]\n",
    "                indices = indices[0]\n",
    "            else:\n",
    "                fit = cosine_similarity_normalized(reduced_query, self.reduced_matrix)[0]\n",
    "                result_indices = np.argsort(-fit)\n",
    "                indices = result_indices[: 20]\n",
    "                accuracy = fit[indices]\n",
    "                \n",
    "        results = [\n",
    "            {\n",
    "                \"title\": f\"{self.documents[idx]}\",\n",
    "                \"url\": f\"{self.documents[idx]}\",\n",
    "                \"snippet\": f\"Match accuracy: {acc}\",\n",
    "            } for idx, acc in zip(indices, accuracy)]\n",
    "\n",
    "        return results"
   ],
   "id": "2780424d6bc07b46",
   "outputs": [],
   "execution_count": 25
  },
  {
   "metadata": {
    "ExecuteTime": {
     "end_time": "2025-05-18T19:24:27.619928Z",
     "start_time": "2025-05-18T19:24:27.435067Z"
    }
   },
   "cell_type": "code",
   "source": [
    "se = SearchEngine()\n",
    "res = se.search(\"computer science\", k = 100, ann = True)\n",
    "print(res)"
   ],
   "id": "12f67afcbeb99c05",
   "outputs": [
    {
     "name": "stdout",
     "output_type": "stream",
     "text": [
      "[{'title': 'https://simple.wikipedia.org/wiki/Theoretical_computer_science', 'url': 'https://simple.wikipedia.org/wiki/Theoretical_computer_science', 'snippet': 'Match accuracy: 0.9635065197944641'}, {'title': 'https://simple.wikipedia.org/wiki/Computer_science', 'url': 'https://simple.wikipedia.org/wiki/Computer_science', 'snippet': 'Match accuracy: 0.9189538359642029'}, {'title': 'https://simple.wikipedia.org/wiki/Computing', 'url': 'https://simple.wikipedia.org/wiki/Computing', 'snippet': 'Match accuracy: 0.9189538359642029'}, {'title': 'https://simple.wikipedia.org/wiki/Computability_theory', 'url': 'https://simple.wikipedia.org/wiki/Computability_theory', 'snippet': 'Match accuracy: 0.8806636929512024'}, {'title': 'https://simple.wikipedia.org/wiki/Distributed_computing', 'url': 'https://simple.wikipedia.org/wiki/Distributed_computing', 'snippet': 'Match accuracy: 0.8631436228752136'}, {'title': 'https://simple.wikipedia.org/wiki/Computation', 'url': 'https://simple.wikipedia.org/wiki/Computation', 'snippet': 'Match accuracy: 0.8604737520217896'}, {'title': 'https://simple.wikipedia.org/wiki/Computer_vision', 'url': 'https://simple.wikipedia.org/wiki/Computer_vision', 'snippet': 'Match accuracy: 0.8569859266281128'}, {'title': 'https://simple.wikipedia.org/wiki/Computer_security', 'url': 'https://simple.wikipedia.org/wiki/Computer_security', 'snippet': 'Match accuracy: 0.8469969630241394'}, {'title': 'https://simple.wikipedia.org/wiki/Debugging', 'url': 'https://simple.wikipedia.org/wiki/Debugging', 'snippet': 'Match accuracy: 0.8427567481994629'}, {'title': 'https://simple.wikipedia.org/wiki/Concurrency_(computer_science)', 'url': 'https://simple.wikipedia.org/wiki/Concurrency_(computer_science)', 'snippet': 'Match accuracy: 0.8328964710235596'}, {'title': 'https://simple.wikipedia.org/wiki/Parallel_computing', 'url': 'https://simple.wikipedia.org/wiki/Parallel_computing', 'snippet': 'Match accuracy: 0.8243756890296936'}, {'title': 'https://simple.wikipedia.org/wiki/Theory_of_computation', 'url': 'https://simple.wikipedia.org/wiki/Theory_of_computation', 'snippet': 'Match accuracy: 0.8203133344650269'}, {'title': 'https://simple.wikipedia.org/wiki/Computer_program', 'url': 'https://simple.wikipedia.org/wiki/Computer_program', 'snippet': 'Match accuracy: 0.8124712705612183'}, {'title': 'https://simple.wikipedia.org/wiki/Computer', 'url': 'https://simple.wikipedia.org/wiki/Computer', 'snippet': 'Match accuracy: 0.8060871362686157'}, {'title': 'https://simple.wikipedia.org/wiki/Computers', 'url': 'https://simple.wikipedia.org/wiki/Computers', 'snippet': 'Match accuracy: 0.8060871362686157'}, {'title': 'https://simple.wikipedia.org/wiki/Virtual_machine', 'url': 'https://simple.wikipedia.org/wiki/Virtual_machine', 'snippet': 'Match accuracy: 0.8016460537910461'}, {'title': 'https://simple.wikipedia.org/wiki/Framework', 'url': 'https://simple.wikipedia.org/wiki/Framework', 'snippet': 'Match accuracy: 0.7924776673316956'}, {'title': 'https://simple.wikipedia.org/wiki/Communication_protocol', 'url': 'https://simple.wikipedia.org/wiki/Communication_protocol', 'snippet': 'Match accuracy: 0.7800503969192505'}, {'title': 'https://simple.wikipedia.org/wiki/Computer_hardware', 'url': 'https://simple.wikipedia.org/wiki/Computer_hardware', 'snippet': 'Match accuracy: 0.7647722959518433'}, {'title': 'https://simple.wikipedia.org/wiki/Human-computer_interaction', 'url': 'https://simple.wikipedia.org/wiki/Human-computer_interaction', 'snippet': 'Match accuracy: 0.7588028907775879'}]\n"
     ]
    }
   ],
   "execution_count": 28
  },
  {
   "metadata": {},
   "cell_type": "code",
   "outputs": [],
   "execution_count": null,
   "source": "",
   "id": "37381b2455d4e6c"
  }
 ],
 "metadata": {
  "kernelspec": {
   "display_name": "Python 3",
   "language": "python",
   "name": "python3"
  },
  "language_info": {
   "codemirror_mode": {
    "name": "ipython",
    "version": 2
   },
   "file_extension": ".py",
   "mimetype": "text/x-python",
   "name": "python",
   "nbconvert_exporter": "python",
   "pygments_lexer": "ipython2",
   "version": "2.7.6"
  }
 },
 "nbformat": 4,
 "nbformat_minor": 5
}
