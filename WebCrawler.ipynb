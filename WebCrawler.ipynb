{
 "cells": [
  {
   "cell_type": "code",
   "id": "initial_id",
   "metadata": {
    "collapsed": true,
    "ExecuteTime": {
     "end_time": "2025-05-09T02:15:10.200641Z",
     "start_time": "2025-05-09T02:15:08.851882Z"
    }
   },
   "source": [
    "from collections import defaultdict\n",
    "import time\n",
    "from nltk.stem import PorterStemmer\n",
    "from nltk.tokenize import word_tokenize\n",
    "from bs4 import BeautifulSoup\n",
    "import requests\n",
    "import json\n",
    "import scipy as sp\n",
    "import pickle"
   ],
   "outputs": [],
   "execution_count": 1
  },
  {
   "metadata": {},
   "cell_type": "markdown",
   "source": "### Web crawler",
   "id": "89d89f13935b0a40"
  },
  {
   "metadata": {
    "ExecuteTime": {
     "end_time": "2025-05-09T02:15:11.944189Z",
     "start_time": "2025-05-09T02:15:11.935098Z"
    }
   },
   "cell_type": "code",
   "source": [
    "class WebCrawler:\n",
    "    def __init__(self, start_urls, domain, skip_urls=[]):\n",
    "        self.urls = start_urls if isinstance(start_urls, list) else [start_urls]\n",
    "        self.domain = domain\n",
    "        self.found_urls = set(start_urls) if isinstance(start_urls, list) else {start_urls}  # for faster lookup during crawling\n",
    "        self.found_urls.update(skip_urls)\n",
    "        self.stemmer = PorterStemmer()\n",
    "        try:\n",
    "            with open(\"documents.json\", \"r\") as doc_file:\n",
    "                self.documents = json.load(doc_file)\n",
    "                self.found_urls.update(self.documents)\n",
    "        except (json.JSONDecodeError, FileNotFoundError) as _:\n",
    "            print(\"Failed to load documents.json\")\n",
    "            self.documents = []\n",
    "        try:\n",
    "            with open(\"terms_by_doc.pkl\", \"rb\") as pkl_file:\n",
    "                self.terms_by_doc = pickle.load(pkl_file)\n",
    "        except (EOFError, FileNotFoundError):\n",
    "            print(\"Failed to load terms_by_doc.pkl\")\n",
    "            self.terms_by_doc = sp.sparse.lil_matrix((0, 0))\n",
    "        try:\n",
    "            with open(\"terms.json\", 'r') as t_file:\n",
    "                self.terms = json.load(t_file)\n",
    "        except (json.JSONDecodeError, FileNotFoundError):\n",
    "            print(\"Failed to load terms.json\")\n",
    "            self.terms = {}\n",
    "        try:\n",
    "            with open(\"stop_words.txt\", 'r') as sw_file:\n",
    "                self.stop_words = set(sw_file.read().splitlines())\n",
    "        except (json.JSONDecodeError, FileNotFoundError):\n",
    "            print(\"Failed to load stop_words.txt\")\n",
    "            self.stop_words = set()\n",
    "    \n",
    "    def _crawl_page(self, url):\n",
    "        page = requests.get(url)\n",
    "        if page.status_code == 200:\n",
    "            soup = BeautifulSoup(page.content, 'html.parser')\n",
    "            links = soup.find_all(\"a\")\n",
    "            all_links = [link.get('href') for link in links]\n",
    "            new_links = set([link for link in all_links\n",
    "                         if link is not None\n",
    "                         and str(link).startswith(\"/wiki/\")\n",
    "                         and 'Special:' not in link\n",
    "                         and ((':' not in link and '%3A' not in link) or 'Category:' in link)\n",
    "                         and link not in self.found_urls])\n",
    "            self.urls.extend(new_links)\n",
    "            self.found_urls.update(new_links)\n",
    "            if 'Category:' in url:\n",
    "                return []\n",
    "            paragraphs = soup.find_all(\"p\")\n",
    "            return paragraphs\n",
    "        else:\n",
    "            print(f\"Failed to retrieve: {url}\\nStatus Code: {page.status_code}\")\n",
    "            return []\n",
    "        \n",
    "    def _create_index(self, paragraphs):\n",
    "        bag_of_words = defaultdict(int)  # bag_of_words = {idx0 : cnt0, idx1 : cnt1, ...}\n",
    "        for p in paragraphs:\n",
    "            words = word_tokenize(p.text.lower())\n",
    "            filtered_words = [self.stemmer.stem(word) for word in words if word not in self.stop_words and word.isalpha()]\n",
    "            for word in filtered_words:\n",
    "                if word not in self.terms:\n",
    "                    idx = len(self.terms)\n",
    "                    self.terms[word] = idx\n",
    "                bag_of_words[self.terms[word]] += 1\n",
    "        return bag_of_words\n",
    "    \n",
    "    def _save_index(self, bag_of_words, url):\n",
    "        self.terms_by_doc.resize((len(self.terms), self.terms_by_doc.shape[1] + 1))\n",
    "        for idx, count in bag_of_words.items():\n",
    "            self.terms_by_doc[idx, self.terms_by_doc.shape[1] - 1] = count\n",
    "        self.documents.append(url)\n",
    "        \n",
    "    def crawl(self, max_crawls = 10):\n",
    "        i = 0\n",
    "        while len(self.urls) > 0 and i < max_crawls:\n",
    "            url = self.urls.pop(0)\n",
    "            if not url.startswith(self.domain):\n",
    "                url = self.domain + url\n",
    "            paragraphs = self._crawl_page(url)\n",
    "            bag_of_words = self._create_index(paragraphs)\n",
    "            self._save_index(bag_of_words, url)\n",
    "            i += 1\n",
    "            time.sleep(1)\n",
    "        with open('terms.json', 'w') as t_file:\n",
    "            json.dump(self.terms, t_file)\n",
    "        with open('documents.json', 'w') as d_file:\n",
    "            json.dump(self.documents, d_file)\n",
    "        with open('terms_by_doc.pkl', 'wb') as t_file:\n",
    "            pickle.dump(self.terms_by_doc, t_file)\n",
    "        # print(self._create_index(self._crawl_page(\"https://realpython.com/beautiful-soup-web-scraper-python\")))\n",
    "        "
   ],
   "id": "ff25725520f2fe9c",
   "outputs": [],
   "execution_count": 2
  },
  {
   "metadata": {
    "ExecuteTime": {
     "end_time": "2025-05-09T01:32:52.812079Z",
     "start_time": "2025-05-09T01:25:36.414079Z"
    }
   },
   "cell_type": "code",
   "source": [
    "wc = WebCrawler(start_urls = \"https://simple.wikipedia.org/wiki/Category:Contents\", domain = \"https://simple.wikipedia.org\", skip_urls=[\"https://simple.wikipedia.org/wiki/Category:Noindexed_pages\"])\n",
    "wc.crawl(max_crawls = 10000)\n",
    "#[\"https://simple.wikipedia.org/wiki/War_crime\", \"https://simple.wikipedia.org/wiki/Computer_science\", ]"
   ],
   "id": "24af0d9a198be4ee",
   "outputs": [
    {
     "name": "stdout",
     "output_type": "stream",
     "text": [
      "Failed to load documents.json\n",
      "Failed to load terms_by_doc.pkl\n",
      "Failed to load terms.json\n"
     ]
    },
    {
     "ename": "KeyboardInterrupt",
     "evalue": "",
     "output_type": "error",
     "traceback": [
      "\u001B[1;31m---------------------------------------------------------------------------\u001B[0m",
      "\u001B[1;31mKeyboardInterrupt\u001B[0m                         Traceback (most recent call last)",
      "Cell \u001B[1;32mIn[3], line 2\u001B[0m\n\u001B[0;32m      1\u001B[0m wc \u001B[38;5;241m=\u001B[39m WebCrawler(start_urls \u001B[38;5;241m=\u001B[39m \u001B[38;5;124m\"\u001B[39m\u001B[38;5;124mhttps://simple.wikipedia.org/wiki/Category:Contents\u001B[39m\u001B[38;5;124m\"\u001B[39m, domain \u001B[38;5;241m=\u001B[39m \u001B[38;5;124m\"\u001B[39m\u001B[38;5;124mhttps://simple.wikipedia.org\u001B[39m\u001B[38;5;124m\"\u001B[39m, skip_urls\u001B[38;5;241m=\u001B[39m[\u001B[38;5;124m\"\u001B[39m\u001B[38;5;124mhttps://simple.wikipedia.org/wiki/Category:Noindexed_pages\u001B[39m\u001B[38;5;124m\"\u001B[39m])\n\u001B[1;32m----> 2\u001B[0m \u001B[43mwc\u001B[49m\u001B[38;5;241;43m.\u001B[39;49m\u001B[43mcrawl\u001B[49m\u001B[43m(\u001B[49m\u001B[43mmax_crawls\u001B[49m\u001B[43m \u001B[49m\u001B[38;5;241;43m=\u001B[39;49m\u001B[43m \u001B[49m\u001B[38;5;241;43m10000\u001B[39;49m\u001B[43m)\u001B[49m\n\u001B[0;32m      3\u001B[0m \u001B[38;5;66;03m#[\"https://simple.wikipedia.org/wiki/War_crime\", \"https://simple.wikipedia.org/wiki/Computer_science\", ]\u001B[39;00m\n",
      "Cell \u001B[1;32mIn[2], line 84\u001B[0m, in \u001B[0;36mWebCrawler.crawl\u001B[1;34m(self, max_crawls)\u001B[0m\n\u001B[0;32m     82\u001B[0m     \u001B[38;5;28mself\u001B[39m\u001B[38;5;241m.\u001B[39m_save_index(bag_of_words, url)\n\u001B[0;32m     83\u001B[0m     i \u001B[38;5;241m+\u001B[39m\u001B[38;5;241m=\u001B[39m \u001B[38;5;241m1\u001B[39m\n\u001B[1;32m---> 84\u001B[0m     \u001B[43mtime\u001B[49m\u001B[38;5;241;43m.\u001B[39;49m\u001B[43msleep\u001B[49m\u001B[43m(\u001B[49m\u001B[38;5;241;43m1\u001B[39;49m\u001B[43m)\u001B[49m\n\u001B[0;32m     85\u001B[0m \u001B[38;5;28;01mwith\u001B[39;00m \u001B[38;5;28mopen\u001B[39m(\u001B[38;5;124m'\u001B[39m\u001B[38;5;124mterms.json\u001B[39m\u001B[38;5;124m'\u001B[39m, \u001B[38;5;124m'\u001B[39m\u001B[38;5;124mw\u001B[39m\u001B[38;5;124m'\u001B[39m) \u001B[38;5;28;01mas\u001B[39;00m t_file:\n\u001B[0;32m     86\u001B[0m     json\u001B[38;5;241m.\u001B[39mdump(\u001B[38;5;28mself\u001B[39m\u001B[38;5;241m.\u001B[39mterms, t_file)\n",
      "\u001B[1;31mKeyboardInterrupt\u001B[0m: "
     ]
    }
   ],
   "execution_count": 3
  },
  {
   "metadata": {},
   "cell_type": "code",
   "outputs": [],
   "execution_count": null,
   "source": "",
   "id": "f44d429bedfa3d1"
  }
 ],
 "metadata": {
  "kernelspec": {
   "display_name": "Python 3",
   "language": "python",
   "name": "python3"
  },
  "language_info": {
   "codemirror_mode": {
    "name": "ipython",
    "version": 2
   },
   "file_extension": ".py",
   "mimetype": "text/x-python",
   "name": "python",
   "nbconvert_exporter": "python",
   "pygments_lexer": "ipython2",
   "version": "2.7.6"
  }
 },
 "nbformat": 4,
 "nbformat_minor": 5
}
