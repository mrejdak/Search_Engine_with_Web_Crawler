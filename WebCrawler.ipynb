{
 "cells": [
  {
   "cell_type": "code",
   "id": "initial_id",
   "metadata": {
    "collapsed": true,
    "ExecuteTime": {
     "end_time": "2025-05-09T09:25:10.361002Z",
     "start_time": "2025-05-09T09:25:10.344147Z"
    }
   },
   "source": [
    "from collections import defaultdict, deque\n",
    "import time\n",
    "from nltk.stem import PorterStemmer\n",
    "from nltk.tokenize import word_tokenize\n",
    "from bs4 import BeautifulSoup\n",
    "import requests\n",
    "import json\n",
    "import scipy as sp\n",
    "import pickle"
   ],
   "outputs": [],
   "execution_count": 12
  },
  {
   "metadata": {},
   "cell_type": "markdown",
   "source": "### Web crawler",
   "id": "89d89f13935b0a40"
  },
  {
   "metadata": {
    "ExecuteTime": {
     "end_time": "2025-05-09T09:28:09.927102Z",
     "start_time": "2025-05-09T09:28:09.923154Z"
    }
   },
   "cell_type": "code",
   "source": [
    "# tmp = deque([1,2,3])\n",
    "# tmp.extend([5,6,7])\n",
    "print(len(tmp))\n",
    "print(tmp.popleft())"
   ],
   "id": "9b02042177b5cc62",
   "outputs": [
    {
     "name": "stdout",
     "output_type": "stream",
     "text": [
      "2\n",
      "6\n"
     ]
    }
   ],
   "execution_count": 32
  },
  {
   "metadata": {
    "ExecuteTime": {
     "end_time": "2025-05-09T02:55:28.441182Z",
     "start_time": "2025-05-09T02:55:28.432192Z"
    }
   },
   "cell_type": "code",
   "source": [
    "class WebCrawler:\n",
    "    def __init__(self, start_urls, domain, skip_urls=[]):\n",
    "        self.urls = deque(start_urls) if isinstance(start_urls, list) else deque([start_urls])\n",
    "        self.domain = domain\n",
    "        self.found_urls = set(start_urls) if isinstance(start_urls, list) else {start_urls}  # for faster lookup during crawling\n",
    "        self.found_urls.update(skip_urls)\n",
    "        self.stemmer = PorterStemmer()\n",
    "        try:\n",
    "            with open(\"documents.json\", \"r\") as doc_file:\n",
    "                self.documents = json.load(doc_file)\n",
    "                self.found_urls.update(self.documents)\n",
    "        except (json.JSONDecodeError, FileNotFoundError) as _:\n",
    "            print(\"Failed to load documents.json\")\n",
    "            self.documents = []\n",
    "        try:\n",
    "            self.terms_by_doc = sp.sparse.load_npz(\"terms_by_doc.npz\")\n",
    "            self.terms_by_doc = self.terms_by_doc.tolil()\n",
    "        except (EOFError, FileNotFoundError):\n",
    "            print(\"Failed to load terms_by_doc.npz\")\n",
    "            self.terms_by_doc = sp.sparse.lil_matrix((0, 0))\n",
    "        try:\n",
    "            with open(\"terms.json\", 'r') as t_file:\n",
    "                self.terms = json.load(t_file)\n",
    "        except (json.JSONDecodeError, FileNotFoundError):\n",
    "            print(\"Failed to load terms.json\")\n",
    "            self.terms = {}\n",
    "        try:\n",
    "            with open(\"stop_words.txt\", 'r') as sw_file:\n",
    "                self.stop_words = set(sw_file.read().splitlines())\n",
    "        except (json.JSONDecodeError, FileNotFoundError):\n",
    "            print(\"Failed to load stop_words.txt\")\n",
    "            self.stop_words = set()\n",
    "    \n",
    "    def _crawl_page(self, url):\n",
    "        page = requests.get(url)\n",
    "        if page.status_code == 200:\n",
    "            soup = BeautifulSoup(page.content, 'html.parser')\n",
    "            links = soup.find_all(\"a\")\n",
    "            all_links = [link.get('href') for link in links]\n",
    "            new_links = set([link for link in all_links\n",
    "                         if link is not None\n",
    "                         and str(link).startswith(\"/wiki/\")\n",
    "                         and 'Special:' not in link\n",
    "                         and ((':' not in link and '%3A' not in link) or 'Category:' in link)\n",
    "                         and link not in self.found_urls])\n",
    "            self.urls.extend(new_links)\n",
    "            self.found_urls.update(new_links)\n",
    "            if 'Category:' in url:\n",
    "                return []\n",
    "            paragraphs = soup.find_all(\"p\")\n",
    "            return paragraphs\n",
    "        else:\n",
    "            print(f\"Failed to retrieve: {url}\\nStatus Code: {page.status_code}\")\n",
    "            return []\n",
    "        \n",
    "    def _create_index(self, paragraphs):\n",
    "        bag_of_words = defaultdict(int)  # bag_of_words = {idx0 : cnt0, idx1 : cnt1, ...}\n",
    "        for p in paragraphs:\n",
    "            words = word_tokenize(p.text.lower())\n",
    "            filtered_words = [self.stemmer.stem(word) for word in words if word not in self.stop_words and word.isalpha()]\n",
    "            for word in filtered_words:\n",
    "                if word not in self.terms:\n",
    "                    idx = len(self.terms)\n",
    "                    self.terms[word] = idx\n",
    "                bag_of_words[self.terms[word]] += 1\n",
    "        return bag_of_words\n",
    "    \n",
    "    def _add_index_to_matrix(self, bag_of_words, url):\n",
    "        self.terms_by_doc.resize((len(self.terms), self.terms_by_doc.shape[1] + 1))\n",
    "        for idx, count in bag_of_words.items():\n",
    "            self.terms_by_doc[idx, self.terms_by_doc.shape[1] - 1] = count\n",
    "        self.documents.append(url)\n",
    "        \n",
    "    def _save_current(self):\n",
    "        with open('terms.json', 'w') as t_file:\n",
    "            json.dump(self.terms, t_file)\n",
    "        with open('documents.json', 'w') as d_file:\n",
    "            json.dump(self.documents, d_file)\n",
    "        csr_matrix = self.terms_by_doc.tocsr()\n",
    "        sp.sparse.save_npz(\"terms_by_doc.npz\", csr_matrix)\n",
    "            \n",
    "    def crawl(self, max_crawls = 10, delay = 1):\n",
    "        i = 0\n",
    "        while len(self.urls) > 0 and i < max_crawls:\n",
    "            url = self.urls.popleft()\n",
    "            if not url.startswith(self.domain):\n",
    "                url = self.domain + url\n",
    "            paragraphs = self._crawl_page(url)\n",
    "            bag_of_words = self._create_index(paragraphs)\n",
    "            if len(bag_of_words) > 0:\n",
    "                self._add_index_to_matrix(bag_of_words, url)\n",
    "            i += 1\n",
    "            time.sleep(delay)\n",
    "            if i % 1000 == 0:\n",
    "                self._save_current()\n",
    "        self._save_current()\n",
    "        # print(self._create_index(self._crawl_page(\"https://realpython.com/beautiful-soup-web-scraper-python\")))\n",
    "        "
   ],
   "id": "ff25725520f2fe9c",
   "outputs": [],
   "execution_count": 2
  },
  {
   "metadata": {
    "ExecuteTime": {
     "end_time": "2025-05-09T06:54:38.388358Z",
     "start_time": "2025-05-09T02:55:37.824342Z"
    }
   },
   "cell_type": "code",
   "source": [
    "wc = WebCrawler(start_urls = \"https://simple.wikipedia.org/wiki/Category:Contents\", domain = \"https://simple.wikipedia.org\", skip_urls=[\"https://simple.wikipedia.org/wiki/Category:Noindexed_pages\"])\n",
    "wc.crawl(max_crawls = 10000)\n",
    "#[\"https://simple.wikipedia.org/wiki/War_crime\", \"https://simple.wikipedia.org/wiki/Computer_science\", ]"
   ],
   "id": "24af0d9a198be4ee",
   "outputs": [
    {
     "name": "stdout",
     "output_type": "stream",
     "text": [
      "Failed to load documents.json\n",
      "Failed to load terms_by_doc.npz\n",
      "Failed to load terms.json\n",
      "Failed to retrieve: https://simple.wikipedia.org/wiki/Computer_graphics_(computer_science)\n",
      "Status Code: 404\n",
      "Failed to retrieve: https://simple.wikipedia.org/wiki/Programming_language_theory\n",
      "Status Code: 404\n",
      "Failed to retrieve: https://simple.wikipedia.org/wiki/Staten_Island_Railway\n",
      "Status Code: 404\n",
      "Failed to retrieve: https://simple.wikipedia.org/wiki/PATH_(rail_system)\n",
      "Status Code: 404\n"
     ]
    }
   ],
   "execution_count": 3
  },
  {
   "metadata": {
    "ExecuteTime": {
     "end_time": "2025-05-09T08:53:29.871330Z",
     "start_time": "2025-05-09T08:53:29.866665Z"
    }
   },
   "cell_type": "code",
   "source": "print(wc.terms_by_doc.shape)",
   "id": "684f347f415a7e72",
   "outputs": [
    {
     "name": "stdout",
     "output_type": "stream",
     "text": [
      "(51436, 10000)\n"
     ]
    }
   ],
   "execution_count": 5
  },
  {
   "metadata": {
    "ExecuteTime": {
     "end_time": "2025-05-09T08:55:15.425013Z",
     "start_time": "2025-05-09T08:55:15.421193Z"
    }
   },
   "cell_type": "code",
   "source": "print(wc.documents.index(\"https://simple.wikipedia.org/wiki/Programming_language_theory\"))",
   "id": "7aab1bb279a00537",
   "outputs": [
    {
     "name": "stdout",
     "output_type": "stream",
     "text": [
      "4502\n"
     ]
    }
   ],
   "execution_count": 8
  },
  {
   "metadata": {
    "ExecuteTime": {
     "end_time": "2025-05-09T08:56:09.591671Z",
     "start_time": "2025-05-09T08:56:09.355954Z"
    }
   },
   "cell_type": "code",
   "source": "print(wc.terms_by_doc[:,4501])",
   "id": "b59d1bd34fbd4d0d",
   "outputs": [
    {
     "name": "stdout",
     "output_type": "stream",
     "text": [
      "<List of Lists sparse matrix of dtype 'float64'\n",
      "\twith 62 stored elements and shape (51436, 1)>\n",
      "  Coords\tValues\n",
      "  (0, 0)\t1.0\n",
      "  (51, 0)\t1.0\n",
      "  (67, 0)\t1.0\n",
      "  (72, 0)\t1.0\n",
      "  (80, 0)\t1.0\n",
      "  (224, 0)\t2.0\n",
      "  (225, 0)\t3.0\n",
      "  (239, 0)\t2.0\n",
      "  (246, 0)\t2.0\n",
      "  (248, 0)\t2.0\n",
      "  (262, 0)\t1.0\n",
      "  (265, 0)\t3.0\n",
      "  (267, 0)\t1.0\n",
      "  (270, 0)\t1.0\n",
      "  (282, 0)\t1.0\n",
      "  (420, 0)\t1.0\n",
      "  (422, 0)\t1.0\n",
      "  (427, 0)\t3.0\n",
      "  (429, 0)\t1.0\n",
      "  (568, 0)\t1.0\n",
      "  (640, 0)\t2.0\n",
      "  (653, 0)\t2.0\n",
      "  (654, 0)\t2.0\n",
      "  (718, 0)\t1.0\n",
      "  (719, 0)\t2.0\n",
      "  :\t:\n",
      "  (1275, 0)\t1.0\n",
      "  (1277, 0)\t1.0\n",
      "  (1310, 0)\t1.0\n",
      "  (1352, 0)\t4.0\n",
      "  (1492, 0)\t1.0\n",
      "  (1742, 0)\t6.0\n",
      "  (1856, 0)\t4.0\n",
      "  (1858, 0)\t3.0\n",
      "  (1879, 0)\t1.0\n",
      "  (1977, 0)\t3.0\n",
      "  (1992, 0)\t1.0\n",
      "  (2028, 0)\t1.0\n",
      "  (2173, 0)\t8.0\n",
      "  (3447, 0)\t1.0\n",
      "  (3536, 0)\t2.0\n",
      "  (4129, 0)\t1.0\n",
      "  (4136, 0)\t1.0\n",
      "  (9173, 0)\t1.0\n",
      "  (17308, 0)\t1.0\n",
      "  (23529, 0)\t1.0\n",
      "  (30715, 0)\t1.0\n",
      "  (32949, 0)\t1.0\n",
      "  (33018, 0)\t1.0\n",
      "  (33019, 0)\t1.0\n",
      "  (33020, 0)\t1.0\n"
     ]
    }
   ],
   "execution_count": 10
  },
  {
   "metadata": {},
   "cell_type": "code",
   "outputs": [],
   "execution_count": null,
   "source": "",
   "id": "5e762f54bf0b8736"
  }
 ],
 "metadata": {
  "kernelspec": {
   "display_name": "Python 3",
   "language": "python",
   "name": "python3"
  },
  "language_info": {
   "codemirror_mode": {
    "name": "ipython",
    "version": 2
   },
   "file_extension": ".py",
   "mimetype": "text/x-python",
   "name": "python",
   "nbconvert_exporter": "python",
   "pygments_lexer": "ipython2",
   "version": "2.7.6"
  }
 },
 "nbformat": 4,
 "nbformat_minor": 5
}
